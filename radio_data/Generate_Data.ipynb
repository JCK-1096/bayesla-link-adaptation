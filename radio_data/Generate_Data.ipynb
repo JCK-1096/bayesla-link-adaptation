{
 "cells": [
  {
   "cell_type": "markdown",
   "metadata": {},
   "source": [
    "# Generate Datasets for Training and Testing on a single machine\n",
    "\n",
    "In this notebook, we report the code to generate datasets for training and testing the neural network models.\n",
    "The datasets contain channel realizations of a realistic LTE link operating over an industry-standard radio channel model.\n",
    "\n",
    "**Note**: Running this code on a sigle machine might be computationally heavy, therefore we suggest the reader to use a cluster of machine if possible. Please refer to \"radio_data/Generate_Data_Distributed.ipynb\", in which the same code as in this notebook is structured to be run on a cluster of machines using the package `ray`."
   ]
  },
  {
   "cell_type": "code",
   "execution_count": 1,
   "metadata": {},
   "outputs": [],
   "source": [
    "import time\n",
    "import itpp\n",
    "import ray\n",
    "import os\n",
    "\n",
    "import numpy as np\n",
    "from matplotlib import pyplot as plt\n",
    "\n",
    "from src import TDL_channel"
   ]
  },
  {
   "cell_type": "code",
   "execution_count": 2,
   "metadata": {},
   "outputs": [],
   "source": [
    "def _run_link_simulation(block_size, \n",
    "                         modorder,\n",
    "                         nrof_subcarriers,\n",
    "                         snr, \n",
    "                         channel_coeff):\n",
    "    \n",
    "    from src import single_link_bicm_ofdm\n",
    "\n",
    "    channel_block_fading = np.tile(np.transpose(channel_coeff), (12, 1))\n",
    "    \n",
    "    return single_link_bicm_ofdm.simulate(block_size, \n",
    "                                          modorder,\n",
    "                                          nrof_subcarriers,\n",
    "                                          snr, \n",
    "                                          channel_block_fading)"
   ]
  },
  {
   "cell_type": "code",
   "execution_count": 3,
   "metadata": {},
   "outputs": [],
   "source": [
    "# Channel Generation\n",
    "fft_size       = 128\n",
    "channel_model  = 'AWGN'\n",
    "#relative_speed = 33.33 # m/s\n",
    "\n",
    "nrof_subcarriers = 72\n",
    "snrs_db        = np.arange( -5, 30, 1 ) #[5, 10, 15, 20, 25] \n",
    "\n",
    "TRANSPORT_BLOCK_SIZES = [152, 200, 248, 320, 408, 504, 600, 712, 808, 936, \n",
    "                         936, 1032, 1192, 1352, 1544, 1736, 1800, \n",
    "                         1800, 1928, 2152, 2344, 2600, 2792, 2984, 3240, 3496, 3624, 3752, 4008]\n",
    "MODULATION_ORDERS     = [2, 2, 2, 2, 2, 2, 2, 2, 2, 2, \n",
    "                         4, 4, 4, 4, 4, 4, 4, \n",
    "                         6, 6, 6, 6, 6, 6, 6, 6, 6, 6, 6, 6]"
   ]
  },
  {
   "cell_type": "code",
   "execution_count": 4,
   "metadata": {},
   "outputs": [],
   "source": [
    "nrof_snrs = len(snrs_db)\n",
    "nrof_samples = 100"
   ]
  },
  {
   "cell_type": "code",
   "execution_count": 5,
   "metadata": {},
   "outputs": [
    {
     "name": "stderr",
     "output_type": "stream",
     "text": [
      "/usr/lib/python3/dist-packages/ipykernel_launcher.py:42: UserWarning: Data has no positive values, and therefore cannot be log-scaled.\n"
     ]
    },
    {
     "name": "stdout",
     "output_type": "stream",
     "text": [
      "Block size index 0, TBS 176, Elapsed: 6.33s\n",
      "Block size index 1, TBS 224, Elapsed: 13.62s\n",
      "Block size index 2, TBS 272, Elapsed: 21.16s\n",
      "Block size index 3, TBS 344, Elapsed: 29.80s\n",
      "Block size index 4, TBS 432, Elapsed: 39.59s\n",
      "Block size index 5, TBS 528, Elapsed: 50.72s\n",
      "Block size index 6, TBS 624, Elapsed: 63.06s\n"
     ]
    },
    {
     "ename": "KeyboardInterrupt",
     "evalue": "",
     "output_type": "error",
     "traceback": [
      "\u001b[0;31m---------------------------------------------------------------------------\u001b[0m",
      "\u001b[0;31mKeyboardInterrupt\u001b[0m                         Traceback (most recent call last)",
      "\u001b[0;32m<ipython-input-5-1cd147d4e1d0>\u001b[0m in \u001b[0;36m<module>\u001b[0;34m()\u001b[0m\n\u001b[1;32m     31\u001b[0m                                     \u001b[0mnrof_subcarriers\u001b[0m\u001b[0;34m,\u001b[0m\u001b[0;34m\u001b[0m\u001b[0;34m\u001b[0m\u001b[0m\n\u001b[1;32m     32\u001b[0m                                     \u001b[0msnrs_db\u001b[0m\u001b[0;34m[\u001b[0m\u001b[0mi\u001b[0m\u001b[0;34m]\u001b[0m\u001b[0;34m,\u001b[0m\u001b[0;34m\u001b[0m\u001b[0;34m\u001b[0m\u001b[0m\n\u001b[0;32m---> 33\u001b[0;31m                                     channel_coeff[:,:,i]) for i in range(nrof_snrs)]\n\u001b[0m\u001b[1;32m     34\u001b[0m \u001b[0;34m\u001b[0m\u001b[0m\n\u001b[1;32m     35\u001b[0m     \u001b[0;32mfor\u001b[0m \u001b[0msnr_index\u001b[0m \u001b[0;32min\u001b[0m \u001b[0mrange\u001b[0m\u001b[0;34m(\u001b[0m\u001b[0mnrof_snrs\u001b[0m\u001b[0;34m)\u001b[0m\u001b[0;34m:\u001b[0m\u001b[0;34m\u001b[0m\u001b[0;34m\u001b[0m\u001b[0m\n",
      "\u001b[0;32m<ipython-input-5-1cd147d4e1d0>\u001b[0m in \u001b[0;36m<listcomp>\u001b[0;34m(.0)\u001b[0m\n\u001b[1;32m     31\u001b[0m                                     \u001b[0mnrof_subcarriers\u001b[0m\u001b[0;34m,\u001b[0m\u001b[0;34m\u001b[0m\u001b[0;34m\u001b[0m\u001b[0m\n\u001b[1;32m     32\u001b[0m                                     \u001b[0msnrs_db\u001b[0m\u001b[0;34m[\u001b[0m\u001b[0mi\u001b[0m\u001b[0;34m]\u001b[0m\u001b[0;34m,\u001b[0m\u001b[0;34m\u001b[0m\u001b[0;34m\u001b[0m\u001b[0m\n\u001b[0;32m---> 33\u001b[0;31m                                     channel_coeff[:,:,i]) for i in range(nrof_snrs)]\n\u001b[0m\u001b[1;32m     34\u001b[0m \u001b[0;34m\u001b[0m\u001b[0m\n\u001b[1;32m     35\u001b[0m     \u001b[0;32mfor\u001b[0m \u001b[0msnr_index\u001b[0m \u001b[0;32min\u001b[0m \u001b[0mrange\u001b[0m\u001b[0;34m(\u001b[0m\u001b[0mnrof_snrs\u001b[0m\u001b[0;34m)\u001b[0m\u001b[0;34m:\u001b[0m\u001b[0;34m\u001b[0m\u001b[0;34m\u001b[0m\u001b[0m\n",
      "\u001b[0;32m<ipython-input-2-c382fc95c7a9>\u001b[0m in \u001b[0;36m_run_link_simulation\u001b[0;34m(block_size, modorder, nrof_subcarriers, snr, channel_coeff)\u001b[0m\n\u001b[1;32m     13\u001b[0m                                           \u001b[0mnrof_subcarriers\u001b[0m\u001b[0;34m,\u001b[0m\u001b[0;34m\u001b[0m\u001b[0;34m\u001b[0m\u001b[0m\n\u001b[1;32m     14\u001b[0m                                           \u001b[0msnr\u001b[0m\u001b[0;34m,\u001b[0m\u001b[0;34m\u001b[0m\u001b[0;34m\u001b[0m\u001b[0m\n\u001b[0;32m---> 15\u001b[0;31m                                           channel_block_fading)\n\u001b[0m",
      "\u001b[0;32m/home/ubuntu/workspace/LinkAdaptationCSI/radio_data/src/single_link_bicm_ofdm.py\u001b[0m in \u001b[0;36msimulate\u001b[0;34m(transport_block_size, modorder, nrof_subcarriers, snr_db, channel_coeff_freq_domain_np)\u001b[0m\n\u001b[1;32m     86\u001b[0m \u001b[0;34m\u001b[0m\u001b[0m\n\u001b[1;32m     87\u001b[0m     \u001b[0;31m# Channel decode the data bits according to the code rate\u001b[0m\u001b[0;34m\u001b[0m\u001b[0;34m\u001b[0m\u001b[0;34m\u001b[0m\u001b[0m\n\u001b[0;32m---> 88\u001b[0;31m     \u001b[0mreceived_bits_decoded\u001b[0m \u001b[0;34m=\u001b[0m \u001b[0mcodec\u001b[0m\u001b[0;34m.\u001b[0m\u001b[0mdecode\u001b[0m\u001b[0;34m(\u001b[0m \u001b[0mtransport_block_size\u001b[0m\u001b[0;34m,\u001b[0m \u001b[0mreceived_soft_values_deinterleaved\u001b[0m \u001b[0;34m)\u001b[0m\u001b[0;34m\u001b[0m\u001b[0;34m\u001b[0m\u001b[0m\n\u001b[0m\u001b[1;32m     89\u001b[0m \u001b[0;34m\u001b[0m\u001b[0m\n\u001b[1;32m     90\u001b[0m     \u001b[0;31m# Count block errors\u001b[0m\u001b[0;34m\u001b[0m\u001b[0;34m\u001b[0m\u001b[0;34m\u001b[0m\u001b[0m\n",
      "\u001b[0;32m/home/ubuntu/workspace/LinkAdaptationCSI/radio_data/src/codec.py\u001b[0m in \u001b[0;36mdecode\u001b[0;34m(block_length, bits)\u001b[0m\n\u001b[1;32m     41\u001b[0m     \u001b[0;34m'''Generate and return decoded bits'''\u001b[0m\u001b[0;34m\u001b[0m\u001b[0;34m\u001b[0m\u001b[0m\n\u001b[1;32m     42\u001b[0m     \u001b[0mdecoded_bits\u001b[0m \u001b[0;34m=\u001b[0m \u001b[0mbvec\u001b[0m\u001b[0;34m(\u001b[0m\u001b[0;34m)\u001b[0m\u001b[0;34m\u001b[0m\u001b[0;34m\u001b[0m\u001b[0m\n\u001b[0;32m---> 43\u001b[0;31m     \u001b[0mcodec\u001b[0m\u001b[0;34m.\u001b[0m\u001b[0mdecode\u001b[0m\u001b[0;34m(\u001b[0m\u001b[0mbits\u001b[0m\u001b[0;34m,\u001b[0m \u001b[0mdecoded_bits\u001b[0m\u001b[0;34m,\u001b[0m \u001b[0mbvec\u001b[0m\u001b[0;34m(\u001b[0m\u001b[0;34m)\u001b[0m\u001b[0;34m)\u001b[0m\u001b[0;34m\u001b[0m\u001b[0;34m\u001b[0m\u001b[0m\n\u001b[0m\u001b[1;32m     44\u001b[0m     \u001b[0;32mreturn\u001b[0m \u001b[0mdecoded_bits\u001b[0m\u001b[0;34m\u001b[0m\u001b[0;34m\u001b[0m\u001b[0m\n\u001b[1;32m     45\u001b[0m \u001b[0;34m\u001b[0m\u001b[0m\n",
      "\u001b[0;31mKeyboardInterrupt\u001b[0m: "
     ]
    },
    {
     "data": {
      "image/png": "[encoded data removed]",
      "text/plain": [
       "<Figure size 432x288 with 1 Axes>"
      ]
     },
     "metadata": {},
     "output_type": "display_data"
    }
   ],
   "source": [
    "'''Generate the channel realizations'''\n",
    "\n",
    "channel_coeff = np.ndarray((nrof_samples, nrof_subcarriers, nrof_snrs), dtype=np.complex128)\n",
    "\n",
    "if channel_model != 'AWGN':\n",
    "    for snr_index in range(nrof_snrs):\n",
    "        channel_response = TDL_channel.channel_frequency_response( fft_size,\n",
    "                                                                   relative_speed,\n",
    "                                                                   channel_model,\n",
    "                                                                   nrof_samples )\n",
    "\n",
    "        channel_coeff[:,:,snr_index] = channel_response.T().to_numpy_ndarray()[:, :nrof_subcarriers]\n",
    "else:\n",
    "    channel_coeff[:, :, :] = 1\n",
    "\n",
    "legend_strings = []\n",
    "\n",
    "block_success_dataset = np.ndarray((nrof_samples, len( TRANSPORT_BLOCK_SIZES ), nrof_snrs))\n",
    "channel_to_noise_ratio_dataset = np.ndarray((nrof_subcarriers, nrof_samples, nrof_snrs))\n",
    "\n",
    "start = time.time()\n",
    "for block_size_index in range( len( TRANSPORT_BLOCK_SIZES ) ):\n",
    "\n",
    "    block_size = TRANSPORT_BLOCK_SIZES[ block_size_index]  + 24 # 24 bit CRC\n",
    "    modorder = MODULATION_ORDERS[ block_size_index ]\n",
    "\n",
    "    bler_vs_snr = []\n",
    "\n",
    "    outcome = [_run_link_simulation(block_size, \n",
    "                                    modorder,\n",
    "                                    nrof_subcarriers,\n",
    "                                    snrs_db[i], \n",
    "                                    channel_coeff[:,:,i]) for i in range(nrof_snrs)]\n",
    "\n",
    "    for snr_index in range(nrof_snrs):\n",
    "        block_success_dataset[:, block_size_index, snr_index] = outcome[snr_index][1]\n",
    "\n",
    "        bler_vs_snr.append(outcome[snr_index][0])\n",
    "   \n",
    "\n",
    "    legend_strings.append('TBS %df' %(block_size))\n",
    "    plt.semilogy(snrs_db, bler_vs_snr)\n",
    "\n",
    "    print('Block size index %d, TBS %d, Elapsed: %0.2fs' %(block_size_index, \n",
    "                                                           block_size, \n",
    "                                                           time.time() - start))\n",
    "\n",
    "AWGN_CHANNEL_DATASET = {'block_success': block_success_dataset,\n",
    "                        'block_sizes': TRANSPORT_BLOCK_SIZES,\n",
    "                        'snrs_db': snrs_db}"
   ]
  },
  {
   "cell_type": "code",
   "execution_count": 6,
   "metadata": {},
   "outputs": [],
   "source": [
    "FADING_CHANNEL_DATASET = {'channel': channel_coeff, \n",
    "                          'block_success': block_success_dataset,\n",
    "                          'block_sizes': TRANSPORT_BLOCK_SIZES,\n",
    "                          'snrs_db': snrs_db}"
   ]
  },
  {
   "cell_type": "code",
   "execution_count": 7,
   "metadata": {},
   "outputs": [],
   "source": [
    "data_filepath = 'sim_data/sim_0001/'\n",
    "data_filename = 'dataset.npy'  \n",
    "\n",
    "if not os.path.exists(data_filepath):\n",
    "    os.makedirs(data_filepath)  \n",
    "\n",
    "np.save(data_filepath + data_filename, FADING_CHANNEL_DATASET)"
   ]
  }
 ],
 "metadata": {
  "kernelspec": {
   "display_name": "Python 3",
   "language": "python",
   "name": "python3"
  },
  "language_info": {
   "codemirror_mode": {
    "name": "ipython",
    "version": 3
   },
   "file_extension": ".py",
   "mimetype": "text/x-python",
   "name": "python",
   "nbconvert_exporter": "python",
   "pygments_lexer": "ipython3",
   "version": "3.6.9"
  }
 },
 "nbformat": 4,
 "nbformat_minor": 2
}
