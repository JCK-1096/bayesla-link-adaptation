{
 "cells": [
  {
   "cell_type": "markdown",
   "metadata": {},
   "source": [
    "# Multi-armed bandit\n",
    "### Thompson sampling with success probability constraint and stochastic rewards"
   ]
  },
  {
   "cell_type": "code",
   "execution_count": 1,
   "metadata": {},
   "outputs": [
    {
     "name": "stderr",
     "output_type": "stream",
     "text": [
      "2020-02-15 17:49:58,165\tWARNING worker.py:682 -- WARNING: Not updating worker name since `setproctitle` is not installed. Install this with `pip install setproctitle` (or ray[debug]) to enable monitoring of worker processes.\n"
     ]
    },
    {
     "data": {
      "text/plain": [
       "{'node_ip_address': '10.0.0.5',\n",
       " 'object_store_address': '/tmp/ray/session_2020-02-15_13-57-29_997315_3448/sockets/plasma_store',\n",
       " 'raylet_socket_name': '/tmp/ray/session_2020-02-15_13-57-29_997315_3448/sockets/raylet',\n",
       " 'redis_address': '10.0.0.5:15672',\n",
       " 'session_dir': '/tmp/ray/session_2020-02-15_13-57-29_997315_3448',\n",
       " 'webui_url': None}"
      ]
     },
     "execution_count": 1,
     "metadata": {},
     "output_type": "execute_result"
    }
   ],
   "source": [
    "from matplotlib import pyplot as plt\n",
    "\n",
    "import numpy as np\n",
    "import ray\n",
    "import time\n",
    "\n",
    "from source import simluate_rayleigh_fading_channel\n",
    "from source import ThompsonSamplingBandit, OuterLoopLinkAdaptation\n",
    "\n",
    "plt.rcParams.update({'font.size': 22, 'lines.linewidth' : 3})\n",
    "\n",
    "ray_redis_address = \"10.0.0.5:15672\"\n",
    "ray.init(address=ray_redis_address, ignore_reinit_error=True, log_to_driver=False)"
   ]
  },
  {
   "cell_type": "code",
   "execution_count": 2,
   "metadata": {},
   "outputs": [
    {
     "name": "stdout",
     "output_type": "stream",
     "text": [
      "Number of active Ray nodes: 1\n"
     ]
    }
   ],
   "source": [
    "@ray.remote\n",
    "def f():\n",
    "    time.sleep(0.01)\n",
    "    return ray.services.get_node_ip_address()\n",
    "\n",
    "# Get a list of the IP addresses of the nodes that have joined the cluster.\n",
    "ray_node_ips = set(ray.get([f.remote() for _ in range(1000)]))\n",
    "print('Number of active Ray nodes: %d'%(len(ray_node_ips)))"
   ]
  },
  {
   "cell_type": "markdown",
   "metadata": {},
   "source": [
    "# Load Offline Model"
   ]
  },
  {
   "cell_type": "code",
   "execution_count": 3,
   "metadata": {},
   "outputs": [],
   "source": [
    "awgn_datafile = 'AWGN_DATASET.npy'\n",
    "awgn_data = np.load( awgn_datafile, allow_pickle=True )[ ( ) ]\n",
    "\n",
    "snr_vs_per = awgn_data['snr_vs_per']\n",
    "snr_range_dB = awgn_data['snr_range_dB']\n",
    "\n",
    "nrof_snr, nrof_rates = snr_vs_per.shape"
   ]
  },
  {
   "cell_type": "code",
   "execution_count": 4,
   "metadata": {},
   "outputs": [],
   "source": [
    "packet_sizes = [152, 200, 248, 320, 408, 504, 600, 712, 808, 936, \n",
    "                936, 1032, 1192, 1352, 1544, 1736, 1800, \n",
    "                1800, 1928, 2152, 2344, 2600, 2792, 2984, 3240, 3496, 3624, 3752, 4008]\n",
    "\n",
    "modorders    = [2, 2, 2, 2, 2, 2, 2, 2, 2, 2, \n",
    "                4, 4, 4, 4, 4, 4, 4, \n",
    "                6, 6, 6, 6, 6, 6, 6, 6, 6, 6, 6, 6]\n",
    "\n",
    "target_per = 0.1\n",
    "cqi_delay = 0\n",
    "nrof_ttis = 1000\n",
    "avg_snr_dB = 15\n",
    "nrof_experiments = 2000"
   ]
  },
  {
   "cell_type": "code",
   "execution_count": 5,
   "metadata": {},
   "outputs": [],
   "source": [
    "#code_rates = [p / (72 * 12 * m ) * 1024 for p, m in zip( packet_sizes, modorders) ]\n",
    "#print( [(i, m, c) for i, m, c in zip( range( len(modorders)) , modorders, code_rates)] )\n",
    "#REF_MCS_INDICES = [0, 1, 3, 5, 8, 9, 11, 14, 16, 20, 22, 24, 27, 28, 28]"
   ]
  },
  {
   "cell_type": "code",
   "execution_count": 6,
   "metadata": {},
   "outputs": [],
   "source": [
    "from source import estimate_sinr_from_cqi, determine_per_at_sinr\n",
    "\n",
    "nrof_cqi = 16\n",
    "per_per_cqi = np.ndarray( ( len( packet_sizes ), nrof_cqi ) )\n",
    "for cqi in range( nrof_cqi - 1):\n",
    "    snr_dB = estimate_sinr_from_cqi(cqi, awgn_data)\n",
    "    per_per_cqi[ :, cqi ] = determine_per_at_sinr(snr_dB, awgn_data)"
   ]
  },
  {
   "cell_type": "code",
   "execution_count": null,
   "metadata": {},
   "outputs": [],
   "source": [
    "@ray.remote\n",
    "def run_experiment( seed, nrof_ttis, cqi_delay, avg_snr_dB  ):\n",
    "    \n",
    "    from source import simluate_rayleigh_fading_channel\n",
    "    from source import ThompsonSamplingBandit, OuterLoopLinkAdaptation\n",
    "\n",
    "    packet_error_probabilities, channel_quality_indices = simluate_rayleigh_fading_channel( nrof_ttis, \n",
    "                                                                                            avg_snr_dB, \n",
    "                                                                                            awgn_data, \n",
    "                                                                                            packet_sizes, \n",
    "                                                                                            norm_doppler = 0.1, \n",
    "                                                                                            seed = seed,\n",
    "                                                                                            cqi_error_std = 2.0)\n",
    "\n",
    "    # Pre-generate ACK events for all rates for all channel samples\n",
    "    packet_acks = np.ndarray( ( nrof_ttis, nrof_rates ) )\n",
    "    for tti in range( nrof_ttis ):\n",
    "        for rate_index in range( nrof_rates ):\n",
    "            packet_acks[tti, rate_index] = np.random.uniform( ) > packet_error_probabilities[tti, rate_index]\n",
    "\n",
    "            \n",
    "    # Outer Loop Link Adaptation\n",
    "    olla_bandit = OuterLoopLinkAdaptation(nrof_rates, packet_sizes, awgn_data, target_per, olla_step_size=0.1)\n",
    "    \n",
    "    olla_rates  = []\n",
    "    olla_acks  = []\n",
    "    olla_tputs = []\n",
    "    for tti in range( nrof_ttis ):\n",
    "        \n",
    "        # Skip the first few samples to account for CQI delay\n",
    "        if tti < cqi_delay:\n",
    "            continue\n",
    "            \n",
    "        cqi = channel_quality_indices[tti]    \n",
    "        selected_rate_index = olla_bandit.act( cqi )\n",
    "\n",
    "        ack = packet_acks[tti, selected_rate_index]\n",
    "        olla_bandit.update( selected_rate_index, cqi, ack )\n",
    "\n",
    "        olla_rates.append(selected_rate_index)\n",
    "        olla_acks.append(ack)\n",
    "        olla_tputs.append( packet_sizes[ selected_rate_index ] * ack )\n",
    "        \n",
    "        \n",
    "    # Thompson Sampling\n",
    "    ts_bandit = ThompsonSamplingBandit(nrof_rates, packet_sizes, target_per)\n",
    "    \n",
    "    ts_rates  = [] \n",
    "    ts_acks  = []\n",
    "    ts_tputs = []\n",
    "    for tti in range( nrof_ttis ):\n",
    "        \n",
    "        # Skip the first few samples to account for CQI delay\n",
    "        if tti < cqi_delay:\n",
    "            continue\n",
    "            \n",
    "        cqi = channel_quality_indices[tti]\n",
    "        selected_rate_index = ts_bandit.act( cqi )\n",
    "\n",
    "        ack = packet_acks[tti, selected_rate_index]\n",
    "        ts_bandit.update( selected_rate_index, cqi, ack )\n",
    "\n",
    "        ts_rates.append( selected_rate_index )\n",
    "        ts_acks.append( ack )\n",
    "        ts_tputs.append( packet_sizes[ selected_rate_index ] * ack )\n",
    "        \n",
    "    \n",
    "    # Thompson Sampling with Informed Priors\n",
    "    ts_infp_bandit = ThompsonSamplingBandit(nrof_rates, packet_sizes, target_per, per_per_cqi)\n",
    "    \n",
    "    ts_infp_rates  = []\n",
    "    ts_infp_acks  = []\n",
    "    ts_infp_tputs = []\n",
    "    for tti in range( nrof_ttis ):\n",
    "        \n",
    "        # Skip the first few samples to account for CQI delay\n",
    "        if tti < cqi_delay:\n",
    "            continue\n",
    "            \n",
    "        cqi = channel_quality_indices[tti]    \n",
    "        selected_rate_index = ts_infp_bandit.act( cqi )\n",
    "\n",
    "        ack = packet_acks[tti, selected_rate_index]\n",
    "        ts_infp_bandit.update( selected_rate_index, cqi, ack )\n",
    "\n",
    "        ts_infp_rates.append(selected_rate_index)\n",
    "        ts_infp_acks.append(ack)\n",
    "        ts_infp_tputs.append( packet_sizes[ selected_rate_index ] * ack )\n",
    "    \n",
    "    return ( olla_rates, olla_acks, olla_tputs, \n",
    "             ts_rates, ts_acks, ts_tputs, \n",
    "             ts_infp_rates, ts_infp_acks, ts_infp_tputs, )"
   ]
  },
  {
   "cell_type": "code",
   "execution_count": null,
   "metadata": {
    "scrolled": true
   },
   "outputs": [],
   "source": [
    "olla_mcs = []\n",
    "olla_ack = []\n",
    "olla_tput = []\n",
    "\n",
    "ts_mcs = []\n",
    "ts_ack = []\n",
    "ts_tput = []\n",
    "\n",
    "ts_infp_mcs = []\n",
    "ts_infp_ack = []\n",
    "ts_infp_tput = []\n",
    "\n",
    "results = ray.get( [ run_experiment.remote( i, nrof_ttis, cqi_delay, avg_snr_dB ) for i in range(nrof_experiments) ] )\n",
    "#results = [ run_experiment( seed = i ) for i in range(2) ]\n",
    "\n",
    "for res in results:\n",
    "    olla_mcs.append( res[0] )\n",
    "    olla_ack.append( res[1] )\n",
    "    olla_tput.append( res[2] )\n",
    "    \n",
    "    ts_mcs.append( res[3] )\n",
    "    ts_ack.append( res[4] )\n",
    "    ts_tput.append( res[5] )\n",
    "    \n",
    "    ts_infp_mcs.append( res[6] )\n",
    "    ts_infp_ack.append( res[7] )\n",
    "    ts_infp_tput.append( res[8] )"
   ]
  },
  {
   "cell_type": "code",
   "execution_count": null,
   "metadata": {},
   "outputs": [],
   "source": [
    "data= { 'olla': ([], olla_ack, olla_tput),\n",
    "        'ts': ([], ts_ack, ts_tput),\n",
    "        'ts_infp': ([], ts_infp_ack, ts_infp_tput)}"
   ]
  },
  {
   "cell_type": "code",
   "execution_count": null,
   "metadata": {},
   "outputs": [],
   "source": [
    "np.save('RESULT_SNR_%d_TARGET_%0.1f_DELAY_%d_CQI_OFFSET_5dB.npy'%( avg_snr_dB, target_per, cqi_delay), data)"
   ]
  },
  {
   "cell_type": "code",
   "execution_count": null,
   "metadata": {},
   "outputs": [],
   "source": [
    "plt.plot(np.mean(np.array(olla_tput)[:, ::10] / (72 * 15), axis=0))\n",
    "plt.plot(np.mean(np.array(ts_tput)[:, ::10] / (72 * 15), axis=0))\n",
    "plt.plot(np.mean(np.array(ts_infp_tput)[:, ::10] / (72 * 15), axis=0))\n",
    "\n",
    "plt.legend(['OLLA', 'TS', 'TS-Infp'])"
   ]
  },
  {
   "cell_type": "code",
   "execution_count": null,
   "metadata": {},
   "outputs": [],
   "source": [
    "plt.semilogy(1.0 - np.mean(np.array(olla_ack)[:, ::10], axis=0))\n",
    "plt.semilogy(1.0 - np.mean(np.array(ts_ack)[:, ::10], axis=0))\n",
    "plt.semilogy(1.0 - np.mean(np.array(ts_infp_ack)[:, ::10], axis=0))\n",
    "\n",
    "plt.legend(['OLLA', 'TS', 'TS-Infp'])"
   ]
  },
  {
   "cell_type": "code",
   "execution_count": null,
   "metadata": {},
   "outputs": [],
   "source": [
    "plt.plot( np.convolve(np.mean(np.array(olla_tput)[:, :] / (72 * 15), axis=0), np.ones((1000,))/1000, mode='valid'))\n",
    "plt.plot( np.convolve(np.mean(np.array(ts_tput)[:, :] / (72 * 15), axis=0), np.ones((1000,))/1000, mode='valid'))\n",
    "plt.plot( np.convolve(np.mean(np.array(ts_infp_tput)[:, :] / (72 * 15), axis=0), np.ones((1000,))/1000, mode='valid'))\n",
    "\n",
    "plt.legend(['OLLA', 'TS', 'TS-Infp'])"
   ]
  },
  {
   "cell_type": "code",
   "execution_count": null,
   "metadata": {},
   "outputs": [],
   "source": [
    "plt.plot( np.convolve(np.mean(np.array(olla_ack)[:, :], axis=0), np.ones((1000,))/1000, mode='valid'))\n",
    "plt.plot( np.convolve(np.mean(np.array(ts_ack)[:, :], axis=0), np.ones((1000,))/1000, mode='valid'))\n",
    "plt.plot( np.convolve(np.mean(np.array(ts_infp_ack)[:, :], axis=0), np.ones((1000,))/1000, mode='valid'))\n",
    "\n",
    "plt.legend(['OLLA', 'TS', 'TS-Infp'])"
   ]
  },
  {
   "cell_type": "code",
   "execution_count": null,
   "metadata": {},
   "outputs": [],
   "source": [
    "plt.plot( np.convolve(np.array(olla_tput)[0, :] / (72 * 15), np.ones((1000,))/1000, mode='valid'))\n",
    "plt.plot( np.convolve(np.array(ts_tput)[0, :] / (72 * 15), np.ones((1000,))/1000, mode='valid'))\n",
    "plt.plot( np.convolve(np.array(ts_infp_tput)[0, :] / (72 * 15), np.ones((1000,))/1000, mode='valid'))\n",
    "\n",
    "plt.legend(['OLLA', 'TS', 'TS-Infp'])"
   ]
  },
  {
   "cell_type": "code",
   "execution_count": 16,
   "metadata": {},
   "outputs": [
    {
     "data": {
      "text/plain": [
       "<matplotlib.legend.Legend at 0x7fb829296518>"
      ]
     },
     "execution_count": 16,
     "metadata": {},
     "output_type": "execute_result"
    },
    {
     "data": {
      "image/png": "[encoded data removed]",
      "text/plain": [
       "<Figure size 432x288 with 1 Axes>"
      ]
     },
     "metadata": {},
     "output_type": "display_data"
    }
   ],
   "source": [
    "plt.plot( np.convolve(np.array(olla_ack)[0, :], np.ones((1000,))/1000, mode='valid'))\n",
    "plt.plot( np.convolve(np.array(ts_ack)[0, :], np.ones((1000,))/1000, mode='valid'))\n",
    "plt.plot( np.convolve(np.array(ts_infp_ack)[0, :], np.ones((1000,))/1000, mode='valid'))\n",
    "\n",
    "plt.legend(['OLLA', 'TS', 'TS-Infp'])"
   ]
  },
  {
   "cell_type": "code",
   "execution_count": 4,
   "metadata": {},
   "outputs": [],
   "source": [
    "#plt.figure()\n",
    "#plt.grid(True)\n",
    "#for i in range(nrof_rates):\n",
    "#    plt.semilogy(snr_range_dB, snr_vs_per[:, i])\n",
    "#plt.xlabel( 'SNR' )\n",
    "#plt.ylabel( 'PER')\n",
    "    \n",
    "#plt.show()"
   ]
  },
  {
   "cell_type": "code",
   "execution_count": 7,
   "metadata": {},
   "outputs": [],
   "source": [
    "#from source import determine_cqi_from_sinr\n",
    "\n",
    "#cqi = []\n",
    "#for s in snr_range_dB:\n",
    "#    cqi.append( determine_cqi_from_sinr(s, packet_sizes, awgn_data) )\n",
    "    \n",
    "#plt.plot( snr_range_dB, cqi )\n",
    "#plt.xlabel('Instantaneous SNR [dB]')\n",
    "#plt.ylabel('CQI')"
   ]
  },
  {
   "cell_type": "code",
   "execution_count": 11,
   "metadata": {},
   "outputs": [
    {
     "data": {
      "image/png": "[encoded data removed]",
      "text/plain": [
       "<Figure size 432x288 with 1 Axes>"
      ]
     },
     "metadata": {},
     "output_type": "display_data"
    }
   ],
   "source": [
    "#from source import determine_per_at_sinr\n",
    "\n",
    "#packet_error_probabilities = determine_per_at_sinr( 15, awgn_data)\n",
    "#expected_tputs = [ (1-per) * psize for per, psize in zip( packet_error_probabilities, packet_sizes )]\n",
    "\n",
    "#plt.figure()\n",
    "#plt.grid(True)\n",
    "#plt.plot(expected_tputs)\n",
    "\n",
    "#plt.xlabel('Rate Index')\n",
    "#plt.ylabel('Expected Tput)')\n",
    "#plt.show()"
   ]
  },
  {
   "cell_type": "code",
   "execution_count": 12,
   "metadata": {},
   "outputs": [
    {
     "data": {
      "image/png": "[encoded data removed]",
      "text/plain": [
       "<Figure size 432x288 with 1 Axes>"
      ]
     },
     "metadata": {},
     "output_type": "display_data"
    }
   ],
   "source": [
    "#plt.figure()\n",
    "#plt.grid(True)\n",
    "#plt.plot(1.0 - packet_error_probabilities, expected_tputs, '-*')\n",
    "\n",
    "#plt.xlabel('Packet Success Probability')\n",
    "#plt.ylabel('Expected Tput)')\n",
    "#plt.show()"
   ]
  },
  {
   "cell_type": "code",
   "execution_count": null,
   "metadata": {},
   "outputs": [],
   "source": []
  }
 ],
 "metadata": {
  "kernelspec": {
   "display_name": "Python 3",
   "language": "python",
   "name": "python3"
  },
  "language_info": {
   "codemirror_mode": {
    "name": "ipython",
    "version": 3
   },
   "file_extension": ".py",
   "mimetype": "text/x-python",
   "name": "python",
   "nbconvert_exporter": "python",
   "pygments_lexer": "ipython3",
   "version": "3.6.9"
  }
 },
 "nbformat": 4,
 "nbformat_minor": 2
}
