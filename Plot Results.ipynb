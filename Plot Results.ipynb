{
 "cells": [
  {
   "cell_type": "markdown",
   "metadata": {},
   "source": [
    "## Plot Results\n",
    "\n",
    "Simulation code for plotting the results from the numerical experiments reported in the paper:  \n",
    "**Vidit Saxena and Joakim Jaldén,\"Bayesian Link Adaptation under a BLER Target\", In 2020 IEEE 21st International Workshop on Signal Processing Advances in Wireless Communications (SPAWC) on May 26-29, 2020.** "
   ]
  },
  {
   "cell_type": "markdown",
   "metadata": {},
   "source": [
    "### Import Dependencies"
   ]
  },
  {
   "cell_type": "code",
   "execution_count": null,
   "metadata": {},
   "outputs": [],
   "source": [
    "import numpy as np\n",
    "from matplotlib import pyplot as plt\n",
    "\n",
    "plt.rcParams.update({'font.size': 30, \n",
    "                     'lines.linewidth' : 3,\n",
    "                     'lines.markersize': 20})"
   ]
  },
  {
   "cell_type": "markdown",
   "metadata": {},
   "source": [
    "### Load Numerical Data from Simulations"
   ]
  },
  {
   "cell_type": "code",
   "execution_count": null,
   "metadata": {},
   "outputs": [],
   "source": [
    "#filename = 'RESULT_SNR_15_TARGET_0.1_DELAY_0'\n",
    "#filename = 'RESULT_SNR_15_TARGET_0.3_DELAY_0'\n",
    "\n",
    "filename = 'TEST'\n",
    "\n",
    "data = np.load(filename + '.npy', allow_pickle=True)[()]"
   ]
  },
  {
   "cell_type": "code",
   "execution_count": null,
   "metadata": {},
   "outputs": [],
   "source": [
    "olla_mcs, olla_ack, olla_tput = data['olla']\n",
    "bayesla_mcs, bayesla_ack, bayesla_tput = data['bayesla']"
   ]
  },
  {
   "cell_type": "code",
   "execution_count": null,
   "metadata": {},
   "outputs": [],
   "source": [
    "plt.rcParams.update({'font.size': 30, \n",
    "                     'lines.linewidth' : 5,\n",
    "                     'lines.markersize': 20})\n",
    "\n",
    "# USER-DEFINED: Down-sampling interval for cleaner plots\n",
    "interval = 10\n",
    "\n",
    "plt_filename_prefix = 'plots/' + '_'.join( filename.split('.'))"
   ]
  },
  {
   "cell_type": "markdown",
   "metadata": {},
   "source": [
    "### Average realized throughput across links with respect to transmission instances"
   ]
  },
  {
   "cell_type": "code",
   "execution_count": null,
   "metadata": {},
   "outputs": [],
   "source": [
    "plt.figure( figsize = [12, 8])\n",
    "\n",
    "x = np.arange( int( np.array(olla_tput).shape[1] / interval ) ) * interval\n",
    "\n",
    "plt.plot(x, np.mean(np.array(olla_tput)[:, ::interval] / (72 * 15), axis=0))\n",
    "plt.plot(x, np.mean(np.array(bayesla_tput)[:, ::interval] / (72 * 15), axis=0))\n",
    "\n",
    "plt.legend(['OLLA', 'BayesLA'])\n",
    "\n",
    "plt.xlabel('T')\n",
    "plt.ylabel('Average Tput [bps / Hz]')\n",
    "\n",
    "#plt.savefig(plt_filename_prefix + '_tput.eps', bbox_inches='tight')\n",
    "#plt.savefig(plt_filename_prefix + '_tput.png', bbox_inches='tight')"
   ]
  },
  {
   "cell_type": "markdown",
   "metadata": {},
   "source": [
    "### Average realized BLER across links with respect to transmission instances"
   ]
  },
  {
   "cell_type": "code",
   "execution_count": null,
   "metadata": {},
   "outputs": [],
   "source": [
    "plt.figure( figsize = [12, 8])\n",
    "\n",
    "plt.plot(x, 1.0 - np.mean(np.array(olla_ack)[:, ::interval], axis=0))\n",
    "plt.plot(x, 1.0 - np.mean(np.array(bayesla_ack)[:, ::interval], axis=0))\n",
    "\n",
    "plt.legend(['OLLA', 'BayesLA'])\n",
    "\n",
    "plt.xlabel('T')\n",
    "plt.ylabel('BLER')\n",
    "\n",
    "#plt.savefig(plt_filename_prefix + '_bler.eps', bbox_inches='tight')\n",
    "#plt.savefig(plt_filename_prefix + '_bler.png', bbox_inches='tight')"
   ]
  },
  {
   "cell_type": "code",
   "execution_count": null,
   "metadata": {},
   "outputs": [],
   "source": []
  }
 ],
 "metadata": {
  "kernelspec": {
   "display_name": "Python 3",
   "language": "python",
   "name": "python3"
  },
  "language_info": {
   "codemirror_mode": {
    "name": "ipython",
    "version": 3
   },
   "file_extension": ".py",
   "mimetype": "text/x-python",
   "name": "python",
   "nbconvert_exporter": "python",
   "pygments_lexer": "ipython3",
   "version": "3.6.9"
  }
 },
 "nbformat": 4,
 "nbformat_minor": 2
}
